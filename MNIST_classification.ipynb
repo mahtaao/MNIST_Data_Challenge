{
 "cells": [
  {
   "cell_type": "code",
   "execution_count": null,
   "metadata": {},
   "outputs": [],
   "source": [
    "import scipy.io\n",
    "import numpy as np\n",
    "import matplotlib.pyplot as plt\n",
    "import csv\n",
    "\n",
    "PATH = 'Data\\\\'\n",
    "test_data = np.genfromtxt(PATH + 'test.csv', delimiter=',')\n",
    "train_data = np.genfromtxt(PATH + 'train.csv', delimiter=',')\n",
    "train_result = np.genfromtxt(PATH + 'trainLabels.csv', delimiter=',')"
   ]
  },
  {
   "cell_type": "code",
   "execution_count": null,
   "metadata": {},
   "outputs": [],
   "source": [
    "# Remove the first row of the data\n",
    "test_data = test_data[1:]\n",
    "train_data = train_data[1:]\n",
    "train_result = train_result[1:]\n",
    "\n"
   ]
  },
  {
   "cell_type": "markdown",
   "metadata": {},
   "source": []
  }
 ],
 "metadata": {
  "kernelspec": {
   "display_name": "Python 3.8.11 ('GOKU')",
   "language": "python",
   "name": "python3"
  },
  "language_info": {
   "codemirror_mode": {
    "name": "ipython",
    "version": 3
   },
   "file_extension": ".py",
   "mimetype": "text/x-python",
   "name": "python",
   "nbconvert_exporter": "python",
   "pygments_lexer": "ipython3",
   "version": "3.8.11"
  },
  "orig_nbformat": 4,
  "vscode": {
   "interpreter": {
    "hash": "7ddb9c752ed968226ca66b061fb86abcf21ee8a8c4c33b010ff0cece310a20f0"
   }
  }
 },
 "nbformat": 4,
 "nbformat_minor": 2
}
